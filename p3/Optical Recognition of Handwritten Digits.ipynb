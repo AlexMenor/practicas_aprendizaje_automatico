{
 "cells": [
  {
   "cell_type": "markdown",
   "metadata": {},
   "source": [
    "# Optical Recognition of Handwritten Digits\n",
    "## El problema\n",
    "Tenemos un problema de clasificación con 10 clases. Los datos vienen de una universidad de Turquía que procesaron dígitos escritos a mano como mapas de bits.\n",
    "## El data set\n",
    "Los mapas de bits tienen 32 x 32 bits. Por suerte, los datos no son 32 x 32 columnas de booleanos. En cambio, estos investigadores, dividieron todo el mapa de bits en 64 cuadros de 4x4 bits e hicieron de cada cuadro una columna. Por tanto, cada uno de esos atributos, contiene la cuenta de bits \"true\" que hay en ese cuadro, por lo tanto, están entre 0 y 16. Es así como consiguieron reducir las dimensiones del problema.\n",
    "## Elementos\n",
    "- X: 64 columnas, cada una tiene un número entre 0 y 16 que representa la cuenta de bits activos en un cuadro del mapa.\n",
    "- Y: La etiqueta tiene como rango 0-9 (que son todos los dígitos que contempla el sistema numérico decimal).\n",
    "- Función objetivo: Dados los bits que contiene cada uno de los cuadros del mapa, predecir de que dígito se trata.\n",
    "## Archivo de datos\n",
    "En este caso no tenemos ni si quiera que hacer nosotros la separación entre datos de entrenamiento / test. Tenemos dos archivos CSV sin cabecera: \n",
    "- optdigits.tra: Datos de training.\n",
    "- optdigits.tes: Datos de test."
   ]
  },
  {
   "cell_type": "markdown",
   "metadata": {},
   "source": [
    "## Datos perdidos\n",
    "Según el fichero \"optdigits.name\", que da información sobre el data set, no hay datos perdidos. Vamos sin embargo a comprobar rápidamente que no hay datos perdidos y que hemos hecho correctamente la lectura."
   ]
  },
  {
   "cell_type": "code",
   "execution_count": 1,
   "metadata": {},
   "outputs": [
    {
     "name": "stdout",
     "output_type": "stream",
     "text": [
      "Hay datos nulos en training: False\n",
      "Hay datos nulos en test:  False\n"
     ]
    }
   ],
   "source": [
    "import pandas as pd\n",
    "import numpy as np\n",
    "\n",
    "import warnings\n",
    "warnings.filterwarnings(\"ignore\")\n",
    "\n",
    "# Leemos los CSV con header=None para que no cuente la primera línea como cabecera\n",
    "raw_data_training = pd.read_csv('./datos/optdigits.tra', header=None)\n",
    "raw_data_test = pd.read_csv('./datos/optdigits.tes', header=None)\n",
    "\n",
    "# Miramos a ver si hay algún dato perdido\n",
    "print('Hay datos nulos en training:',raw_data_training.isna().any().any())\n",
    "print('Hay datos nulos en test: ', raw_data_test.isna().any().any())"
   ]
  },
  {
   "cell_type": "markdown",
   "metadata": {},
   "source": [
    "## Muestreo estratificado\n",
    "Podemos ver que tanto los datos de training como los de entrenamiento están estratificados por dígitos. Es decir, hay un equilibrio de ocurrencias de cada dígito. De esta forma, no hay falta de información sobre ninguno de ellos."
   ]
  },
  {
   "cell_type": "code",
   "execution_count": 2,
   "metadata": {
    "scrolled": true
   },
   "outputs": [
    {
     "data": {
      "text/plain": [
       "<matplotlib.axes._subplots.AxesSubplot at 0x7f4232507908>"
      ]
     },
     "execution_count": 2,
     "metadata": {},
     "output_type": "execute_result"
    },
    {
     "data": {
      "image/png": "[encoded data removed]",
      "text/plain": [
       "<Figure size 432x288 with 1 Axes>"
      ]
     },
     "metadata": {
      "needs_background": "light"
     },
     "output_type": "display_data"
    }
   ],
   "source": [
    "pd.value_counts(raw_data_training[64]).plot.bar(title=\"Conteo de dígitos en los datos de training\")\n"
   ]
  },
  {
   "cell_type": "code",
   "execution_count": 3,
   "metadata": {},
   "outputs": [
    {
     "data": {
      "text/plain": [
       "<matplotlib.axes._subplots.AxesSubplot at 0x7f422f408160>"
      ]
     },
     "execution_count": 3,
     "metadata": {},
     "output_type": "execute_result"
    },
    {
     "data": {
      "image/png": "[encoded data removed]",
      "text/plain": [
       "<Figure size 432x288 with 1 Axes>"
      ]
     },
     "metadata": {
      "needs_background": "light"
     },
     "output_type": "display_data"
    }
   ],
   "source": [
    "pd.value_counts(raw_data_test[64]).plot.bar(title=\"Conteo de dígitos en los datos de test\")"
   ]
  },
  {
   "cell_type": "code",
   "execution_count": 4,
   "metadata": {},
   "outputs": [
    {
     "name": "stdout",
     "output_type": "stream",
     "text": [
      "X_train shape: (3823, 64) Y_train shape: (3823,)\n",
      "X_test shape: (1797, 64) Y_test shape: (1797,)\n"
     ]
    }
   ],
   "source": [
    "# Partimos los datos en X Y, siendo 64 la columna que contiene la etiqueta o target\n",
    "\n",
    "X_train = raw_data_training.drop(64, axis=1)\n",
    "Y_train = raw_data_training[64]\n",
    "\n",
    "print('X_train shape:', X_train.shape, 'Y_train shape:', Y_train.shape)\n",
    "\n",
    "X_test = raw_data_test.drop(64, axis=1)\n",
    "Y_test = raw_data_test[64]\n",
    "\n",
    "print('X_test shape:', X_test.shape, 'Y_test shape:', Y_test.shape)\n"
   ]
  },
  {
   "cell_type": "markdown",
   "metadata": {},
   "source": [
    "## Validación cruzada\n",
    "En este caso tenemos una validación cruzada un poco más sofisticada que en el caso de regresión:\n",
    "- Utilizamos \"StratifiedKFold\" para que parta los datos de training en 10 partes estratificadas, con aproximadamente la misma cantidad de ocurrencias de cada dígito.\n",
    "- Utilizamos pipeline para encadenar también un StandardScaler que estandariza el rango de las columnas a una distribución Gaussiana con media 0 y varianza 1. \n",
    "z = (x - u) / s  (Siendo u la media de la columna y s la desviación tipica) Para cada dato (x).\n",
    "- Utilizamos como métrica la precisión (porcentaje de aciertos)"
   ]
  },
  {
   "cell_type": "code",
   "execution_count": 5,
   "metadata": {},
   "outputs": [],
   "source": [
    "from sklearn.model_selection import cross_val_score, StratifiedKFold\n",
    "from sklearn.preprocessing import StandardScaler\n",
    "from sklearn.pipeline import make_pipeline\n",
    "\n",
    "# Utilizamos cross_val_score de sklearn que hace la validación cruzada por nosotros.\n",
    "# Devuelve el valor de cada validación (en este caso 10)\n",
    "\n",
    "def validate_models(model_strings, models, X_train, Y_train):\n",
    "    validation_results = {'accuracy':[], 'std_dev_error': []}\n",
    "    cv = StratifiedKFold(n_splits=10, shuffle=True, random_state=1)\n",
    "    for model in models:\n",
    "        pipeline = make_pipeline(StandardScaler(), model)\n",
    "        results = cross_val_score(pipeline, X_train, Y_train, scoring = \"accuracy\", cv=cv)\n",
    "        \n",
    "        # Hacemos la media y desviación típica de las 10 validaciones\n",
    "        \n",
    "        validation_results['accuracy'].append(np.mean(np.abs(results)))\n",
    "        validation_results['std_dev_error'].append(np.std(np.abs(results)))\n",
    "        \n",
    "        # Devolvemos una tabla con los modelos y sus métricas\n",
    "        \n",
    "    return pd.DataFrame(data=validation_results, index=model_strings)"
   ]
  },
  {
   "cell_type": "markdown",
   "metadata": {},
   "source": [
    "## Regresión logística\n",
    "A diferencia de la regresión logística que hemos trabajado en otras prácticas, en esta contamos con regularización por normal l2, minimizando la siguiente función:\n",
    "$\\min_{w, c} \\frac{1}{2}w^T w + C \\sum_{i=1}^n \\log(\\exp(- y_i (X_i^T w + c)) + 1)$\n",
    "Además, controlamos la regularización con el parámetro C (valores más pequeños, mas regularización)."
   ]
  },
  {
   "cell_type": "code",
   "execution_count": 6,
   "metadata": {},
   "outputs": [
    {
     "data": {
      "text/html": [
       "<div>\n",
       "<style scoped>\n",
       "    .dataframe tbody tr th:only-of-type {\n",
       "        vertical-align: middle;\n",
       "    }\n",
       "\n",
       "    .dataframe tbody tr th {\n",
       "        vertical-align: top;\n",
       "    }\n",
       "\n",
       "    .dataframe thead th {\n",
       "        text-align: right;\n",
       "    }\n",
       "</style>\n",
       "<table border=\"1\" class=\"dataframe\">\n",
       "  <thead>\n",
       "    <tr style=\"text-align: right;\">\n",
       "      <th></th>\n",
       "      <th>accuracy</th>\n",
       "      <th>std_dev_error</th>\n",
       "    </tr>\n",
       "  </thead>\n",
       "  <tbody>\n",
       "    <tr>\n",
       "      <th>Logistic Regression C = 0.5</th>\n",
       "      <td>0.973318</td>\n",
       "      <td>0.010844</td>\n",
       "    </tr>\n",
       "    <tr>\n",
       "      <th>Logistic Regression C = 1.0</th>\n",
       "      <td>0.974104</td>\n",
       "      <td>0.010693</td>\n",
       "    </tr>\n",
       "    <tr>\n",
       "      <th>Logistic Regression C = 1.5</th>\n",
       "      <td>0.973057</td>\n",
       "      <td>0.010668</td>\n",
       "    </tr>\n",
       "  </tbody>\n",
       "</table>\n",
       "</div>"
      ],
      "text/plain": [
       "                             accuracy  std_dev_error\n",
       "Logistic Regression C = 0.5  0.973318       0.010844\n",
       "Logistic Regression C = 1.0  0.974104       0.010693\n",
       "Logistic Regression C = 1.5  0.973057       0.010668"
      ]
     },
     "execution_count": 6,
     "metadata": {},
     "output_type": "execute_result"
    }
   ],
   "source": [
    "from sklearn.linear_model import LogisticRegression\n",
    "models = [\n",
    "    LogisticRegression(multi_class='multinomial', C=0.5),\n",
    "    LogisticRegression(multi_class='multinomial', C=1.0),\n",
    "    LogisticRegression(multi_class='multinomial', C=1.5),\n",
    "]\n",
    "\n",
    "model_strings = [\n",
    "    'Logistic Regression C = 0.5',\n",
    "    'Logistic Regression C = 1.0',\n",
    "    'Logistic Regression C = 1.5',\n",
    "]\n",
    "\n",
    "validate_models(model_strings, models, X_train, Y_train)"
   ]
  },
  {
   "cell_type": "markdown",
   "metadata": {},
   "source": [
    "## Perceptron\n",
    "Un viejo conocido, en este caso también tiene opción de regularización. He probado, como se puede ver más abajo, con y sin ella (norma l2).\n"
   ]
  },
  {
   "cell_type": "code",
   "execution_count": 7,
   "metadata": {},
   "outputs": [
    {
     "data": {
      "text/html": [
       "<div>\n",
       "<style scoped>\n",
       "    .dataframe tbody tr th:only-of-type {\n",
       "        vertical-align: middle;\n",
       "    }\n",
       "\n",
       "    .dataframe tbody tr th {\n",
       "        vertical-align: top;\n",
       "    }\n",
       "\n",
       "    .dataframe thead th {\n",
       "        text-align: right;\n",
       "    }\n",
       "</style>\n",
       "<table border=\"1\" class=\"dataframe\">\n",
       "  <thead>\n",
       "    <tr style=\"text-align: right;\">\n",
       "      <th></th>\n",
       "      <th>accuracy</th>\n",
       "      <th>std_dev_error</th>\n",
       "    </tr>\n",
       "  </thead>\n",
       "  <tbody>\n",
       "    <tr>\n",
       "      <th>Perceptron sin regularización</th>\n",
       "      <td>0.950039</td>\n",
       "      <td>0.008639</td>\n",
       "    </tr>\n",
       "    <tr>\n",
       "      <th>Perceptron alpha = 0.0001</th>\n",
       "      <td>0.938268</td>\n",
       "      <td>0.007688</td>\n",
       "    </tr>\n",
       "    <tr>\n",
       "      <th>Perceptron alpha = 0.00025</th>\n",
       "      <td>0.925184</td>\n",
       "      <td>0.016293</td>\n",
       "    </tr>\n",
       "    <tr>\n",
       "      <th>Perceptron alpha = 0.0004</th>\n",
       "      <td>0.916817</td>\n",
       "      <td>0.008671</td>\n",
       "    </tr>\n",
       "  </tbody>\n",
       "</table>\n",
       "</div>"
      ],
      "text/plain": [
       "                               accuracy  std_dev_error\n",
       "Perceptron sin regularización  0.950039       0.008639\n",
       "Perceptron alpha = 0.0001      0.938268       0.007688\n",
       "Perceptron alpha = 0.00025     0.925184       0.016293\n",
       "Perceptron alpha = 0.0004      0.916817       0.008671"
      ]
     },
     "execution_count": 7,
     "metadata": {},
     "output_type": "execute_result"
    }
   ],
   "source": [
    "from sklearn.linear_model import Perceptron\n",
    "models = [\n",
    "    Perceptron(random_state=1),\n",
    "    Perceptron(alpha=0.0001, penalty='l2',random_state=1),\n",
    "    Perceptron(alpha=0.00025, penalty='l2',random_state=1),\n",
    "    Perceptron(alpha=0.0004, penalty='l2',random_state=1),\n",
    "    \n",
    "]\n",
    "\n",
    "model_strings = [\n",
    "    'Perceptron sin regularización',\n",
    "    'Perceptron alpha = 0.0001',\n",
    "    'Perceptron alpha = 0.00025',\n",
    "    'Perceptron alpha = 0.0004',\n",
    "  \n",
    "]\n",
    "\n",
    "validate_models(model_strings, models, X_train, Y_train)"
   ]
  },
  {
   "cell_type": "markdown",
   "metadata": {},
   "source": [
    "## Ridge Classifier\n",
    "Se optimiza la misma función que hemos visto para el problema de regresión. Se menciona en la documentación que puede ser más rápido para problemas multiclases (como este) ya que solo se computa la matriz de proyección una vez. $(X^T X)^{-1} X^T$\n",
    "De nuevo, he probado con y sin regularización. Utilizo como algoritmo el de la descomposición en valores singulares, al igual que OLS."
   ]
  },
  {
   "cell_type": "code",
   "execution_count": 8,
   "metadata": {},
   "outputs": [
    {
     "data": {
      "text/html": [
       "<div>\n",
       "<style scoped>\n",
       "    .dataframe tbody tr th:only-of-type {\n",
       "        vertical-align: middle;\n",
       "    }\n",
       "\n",
       "    .dataframe tbody tr th {\n",
       "        vertical-align: top;\n",
       "    }\n",
       "\n",
       "    .dataframe thead th {\n",
       "        text-align: right;\n",
       "    }\n",
       "</style>\n",
       "<table border=\"1\" class=\"dataframe\">\n",
       "  <thead>\n",
       "    <tr style=\"text-align: right;\">\n",
       "      <th></th>\n",
       "      <th>accuracy</th>\n",
       "      <th>std_dev_error</th>\n",
       "    </tr>\n",
       "  </thead>\n",
       "  <tbody>\n",
       "    <tr>\n",
       "      <th>Ridge alpha = 0</th>\n",
       "      <td>0.933298</td>\n",
       "      <td>0.014812</td>\n",
       "    </tr>\n",
       "    <tr>\n",
       "      <th>Ridge alpha = 1.0</th>\n",
       "      <td>0.933036</td>\n",
       "      <td>0.014051</td>\n",
       "    </tr>\n",
       "  </tbody>\n",
       "</table>\n",
       "</div>"
      ],
      "text/plain": [
       "                   accuracy  std_dev_error\n",
       "Ridge alpha = 0    0.933298       0.014812\n",
       "Ridge alpha = 1.0  0.933036       0.014051"
      ]
     },
     "execution_count": 8,
     "metadata": {},
     "output_type": "execute_result"
    }
   ],
   "source": [
    "from sklearn.linear_model import RidgeClassifier\n",
    "models = [\n",
    "    RidgeClassifier(alpha=0, solver='svd'),\n",
    "    RidgeClassifier(alpha=1.0, solver='svd')\n",
    "    \n",
    "]\n",
    "\n",
    "model_strings = [\n",
    "    'Ridge alpha = 0',\n",
    "    'Ridge alpha = 1.0',\n",
    "]\n",
    "\n",
    "validate_models(model_strings, models, X_train, Y_train)"
   ]
  },
  {
   "cell_type": "code",
   "execution_count": 9,
   "metadata": {},
   "outputs": [
    {
     "data": {
      "text/plain": [
       "LogisticRegression(C=1.5, class_weight=None, dual=False, fit_intercept=True,\n",
       "                   intercept_scaling=1, l1_ratio=None, max_iter=100,\n",
       "                   multi_class='multinomial', n_jobs=None, penalty='l2',\n",
       "                   random_state=None, solver='lbfgs', tol=0.0001, verbose=0,\n",
       "                   warm_start=False)"
      ]
     },
     "execution_count": 9,
     "metadata": {},
     "output_type": "execute_result"
    }
   ],
   "source": [
    "stdScaler = StandardScaler()\n",
    "stdScaler.fit(X_train)\n",
    "X_train_scaled = stdScaler.transform(X_train)\n",
    "final_model = LogisticRegression(multi_class='multinomial', C=1.5)\n",
    "final_model.fit(X_train_scaled, Y_train)"
   ]
  },
  {
   "cell_type": "code",
   "execution_count": 10,
   "metadata": {},
   "outputs": [
    {
     "name": "stdout",
     "output_type": "stream",
     "text": [
      "Etest:  0.9510294936004452\n"
     ]
    }
   ],
   "source": [
    "from sklearn.metrics import accuracy_score\n",
    "stdScaler = StandardScaler()\n",
    "stdScaler.fit(X_test)\n",
    "X_test_scaled = stdScaler.transform(X_test)\n",
    "predictions = final_model.predict(X_test_scaled)\n",
    "Etest = accuracy_score(Y_test, predictions)\n",
    "print('Etest: ', Etest)"
   ]
  },
  {
   "cell_type": "code",
   "execution_count": null,
   "metadata": {},
   "outputs": [],
   "source": []
  }
 ],
 "metadata": {
  "kernelspec": {
   "display_name": "Python 3",
   "language": "python",
   "name": "python3"
  },
  "language_info": {
   "codemirror_mode": {
    "name": "ipython",
    "version": 3
   },
   "file_extension": ".py",
   "mimetype": "text/x-python",
   "name": "python",
   "nbconvert_exporter": "python",
   "pygments_lexer": "ipython3",
   "version": "3.6.9"
  }
 },
 "nbformat": 4,
 "nbformat_minor": 4
}
